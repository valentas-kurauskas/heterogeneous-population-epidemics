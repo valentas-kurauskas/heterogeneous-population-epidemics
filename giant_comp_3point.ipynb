{
 "cells": [
  {
   "cell_type": "code",
   "execution_count": 1,
   "metadata": {},
   "outputs": [],
   "source": [
    "#coding utf-8\n",
    "\n",
    "#Author: Valentas Kurauskas\n",
    "#Licence: MIT\n",
    "\n",
    "#NB: I cannot guarantee there are no more bugs here"
   ]
  },
  {
   "cell_type": "code",
   "execution_count": 2,
   "metadata": {},
   "outputs": [],
   "source": [
    "#Calculate the largest component size (fraction of infected population) with given R0.\n",
    "#Compares binomial model (green line) with three-point degree distribution model, in which\n",
    "#an individual infects exactly 0, a or b new individuals\n",
    "#with probability 1-p_a-epsilon, p_a, epsilon\n",
    "#adjusted to have desired R0.\n",
    "\n",
    "#Based on Svante Janson, and Malwina J. Luczak, \"A new approach to the giant component problem\", Random Structures & Algorithms 34 (2009): 197-216."
   ]
  },
  {
   "cell_type": "code",
   "execution_count": 3,
   "metadata": {},
   "outputs": [],
   "source": [
    "import matplotlib.pyplot as plt\n",
    "import math\n",
    "import ipywidgets\n",
    "from scipy.optimize import fsolve, minimize\n",
    "\n",
    "def xi(f, df, mu):\n",
    "    if df(1) <= 1: return 0\n",
    "    g = lambda x: x * mu - df(x)\n",
    "    xi = fsolve(g, 0)\n",
    "    if (xi < 0 or xi > 1):\n",
    "        return 0\n",
    "    return xi\n",
    "\n",
    "def comp1(f, df, mu):\n",
    "    if df(1) <= 1:\n",
    "        return 0\n",
    "    return 1 - f(xi(f,df,mu))\n",
    "\n",
    "def cc(a,b,R0,p_a):\n",
    "    if R0 >= b: #invalid parameters\n",
    "        return 0\n",
    "    eps = (p_a * (a-1) * (R0-a) + R0)/((b-1)*(b-R0))\n",
    "    if eps < 0 or 1 - p_a - eps < 0:\n",
    "        return 0 #invalid parameters\n",
    "    m = (1-p_a - eps) + p_a * a + eps * b\n",
    "    m2 = (1-p_a - eps) + p_a * a**2 + eps * b**2\n",
    "    if (m2 - 2*m) <= 0: return 0 #epidemics does not explode\n",
    "    f=lambda x: (1-p_a-eps) * x + p_a * x**a + eps * x**b\n",
    "    df=lambda x: 1 - p_a - eps + a*p_a*x**(a-1) + eps * b * x**(b-1)\n",
    "    res=comp1(f, df, m)[0]\n",
    "    return res\n",
    "\n",
    "def plot_toy3(a, R0, p_a, max_b=30):\n",
    "    a=int(a)\n",
    "    plt.bar(range(a+2, max_b+1), [cc(a+1, b+1, R0, p_a) for b in range(a+2,max_b+1)], color=\"gray\")\n",
    "    gnp = comp1(lambda x: math.exp( R0 * (x-1)), lambda x: R0 * math.exp( R0 * (x-1)), R0)\n",
    "    plt.hlines(gnp, 0, max_b, color=\"green\")\n",
    "    plt.hlines(1-1/R0, 0, max_b, color=\"blue\")\n",
    "    plt.ylim(0, 1.0)\n",
    "    plt.xlim(0, max_b)\n",
    "    print(\"{:0.2%} infect {}, 100ε% (the superspreaders) infect b, others infect 0\".format(p_a,int(a)))\n",
    "    plt.annotate(\"G(n,p) with np=R0\", (max_b,gnp+0.01), color=\"green\",ha=\"right\")\n",
    "    plt.annotate(\"1-1/R0\", (max_b,1-1/R0+0.01), color=\"blue\", ha=\"right\")\n",
    "    plt.title(\"R0={}, a={}, p_a={}\".format(R0,a,p_a))\n",
    "    plt.xlabel(\"b (how many do superspreaders infect)\")\n",
    "    plt.ylabel(\"Total fraction that will get sick\")\n",
    "    plt.grid()\n",
    "    plt.gca()"
   ]
  },
  {
   "cell_type": "code",
   "execution_count": 4,
   "metadata": {},
   "outputs": [
    {
     "data": {
      "application/vnd.jupyter.widget-view+json": {
       "model_id": "8f592ca505a34d168541f28d594e88da",
       "version_major": 2,
       "version_minor": 0
      },
      "text/plain": [
       "interactive(children=(FloatSlider(value=1.0, description='a', max=10.0, step=1.0), FloatSlider(value=2.5, desc…"
      ]
     },
     "metadata": {},
     "output_type": "display_data"
    }
   ],
   "source": [
    "#y axis shows the proportion of the population that will get sick at some point, 1=100%\n",
    "ipywidgets.interact(plot_toy3, a=ipywidgets.FloatSlider(min=0, max=10, step=1, value=1),\n",
    "            R0=ipywidgets.FloatSlider(min=0, max=10, step=0.1, value=2.5),\n",
    "            p_a=ipywidgets.FloatSlider(min=0, max=1, step=0.01, value=0.3),\n",
    "            max_b=ipywidgets.IntSlider(min=10, max=200, step=10, value=50)\n",
    "         );"
   ]
  },
  {
   "cell_type": "markdown",
   "metadata": {},
   "source": [
    "For $G(n,p)$ the blue line is the [\"herd immunity threshold\"](https://en.wikipedia.org/wiki/Herd_immunity#Mechanics) $1 - \\frac 1 {R_0}$. If herd immunity is attained via \"natural infection\" as opposed to vaccination, the epidemics only begins to die out once this point is reached. The total infected fraction (the green line) is quite a bit larger, it is the unique solution $\\rho=\\rho(R_0)$ of $1-\\rho = e^{-R_0 \\rho}$\n",
    "in the interval $0 < \\rho < 1$."
   ]
  },
  {
   "cell_type": "code",
   "execution_count": 5,
   "metadata": {},
   "outputs": [],
   "source": [
    "def H(a,b,R0,p_a):\n",
    "    empty=(1, lambda x: 0, lambda x: 0, lambda x:0)\n",
    "    if R0 >= b: \n",
    "        print(\"Error: R0 should be smaller than b\")\n",
    "        return empty\n",
    "    eps = (p_a * (a-1) * (R0-a) + R0)/((b-1)*(b-R0))\n",
    "    if eps < 0 or 1 - p_a - eps < 0:\n",
    "        print(\"Error: These parameters are invalid\")\n",
    "        return empty\n",
    "    m = (1-p_a - eps) + p_a * a + eps * b\n",
    "    m2 = (1-p_a - eps) + p_a * a**2 + eps * b**2\n",
    "    print(\"{:0.2%} infect 0, {:0.2%} infect {}, {:0.2%} infect {}\".format(1-p_a-eps, p_a,int(a-1), eps,b-1))\n",
    "    if (m2 - 2*m) <= 0:\n",
    "        print(\"Epidemics ends immediately!\")\n",
    "        return empty\n",
    "    f = lambda x: (1-p_a-eps) * x + p_a * x**a + eps * x**b\n",
    "    df = lambda x: 1 - p_a - eps + a*p_a*x**(a-1) + eps * b * x**(b-1)\n",
    "    d2 = lambda x: a*(a-1) * p_a * x**a + eps * b * (b-1) * x**b #  from (5.1)\n",
    "    Ed = df(1)\n",
    "    return xi(f,df,m), lambda x: Ed * x ** 2 - x * df(x), lambda x: d2(x)/(x*df(x)), f"
   ]
  },
  {
   "cell_type": "code",
   "execution_count": 6,
   "metadata": {},
   "outputs": [],
   "source": [
    "def plot_H(a, R0, p_a, b):\n",
    "    xi, f, Rt, g = H(a+1, b+1, R0, p_a)\n",
    "    xs = [ -math.log(xi) * i/100 for i in range(101)]\n",
    "    plt.figure(figsize=(5, 6))\n",
    "    plt.subplot(311)\n",
    "    plt.plot(xs, [f(math.exp(-x)) for x in xs], \"b-\", label=\"active\")\n",
    "    plt.legend()\n",
    "    plt.grid()\n",
    "    plt.subplot(312)\n",
    "    plt.plot(xs, [1-g(math.exp(-x)) for x in xs], \"g-\", label=\"infected/removed\")\n",
    "    plt.legend()\n",
    "    plt.grid()\n",
    "    plt.subplot(313)\n",
    "    plt.plot(xs, [Rt(math.exp(-x)) for x in xs], \"r-\", label=\"Rt\")\n",
    "    plt.hlines(1, 0, -math.log(xi), linestyles=\"dotted\")\n",
    "    plt.xlabel(\"time (distorted)\")\n",
    "    plt.grid()\n",
    "    plt.legend()\n",
    "    plt.gca()"
   ]
  },
  {
   "cell_type": "code",
   "execution_count": 7,
   "metadata": {},
   "outputs": [
    {
     "data": {
      "application/vnd.jupyter.widget-view+json": {
       "model_id": "d5b72e8802344254950e581976845fd7",
       "version_major": 2,
       "version_minor": 0
      },
      "text/plain": [
       "interactive(children=(FloatSlider(value=1.0, description='a', max=10.0, step=1.0), FloatSlider(value=2.5, desc…"
      ]
     },
     "metadata": {},
     "output_type": "display_data"
    }
   ],
   "source": [
    "#\"Superspreaders\" cause large Rt in the beginning but are explored sooner.\n",
    "#Note that the time is (monotonically) transformed, it does not match the real time\n",
    "#y axis shows the proportion of the population, 1=100%\n",
    "ipywidgets.interact(plot_H, a=ipywidgets.FloatSlider(min=0, max=10, step=1, value=1),\n",
    "            R0=ipywidgets.FloatSlider(min=0, max=10, step=0.1, value=2.5),\n",
    "            p_a=ipywidgets.FloatSlider(min=0, max=1, step=0.01, value=0.3),\n",
    "            b=ipywidgets.IntSlider(min=2, max=100, step=1, value=10));"
   ]
  }
 ],
 "metadata": {
  "kernelspec": {
   "display_name": "Python 3",
   "language": "python",
   "name": "python3"
  },
  "language_info": {
   "codemirror_mode": {
    "name": "ipython",
    "version": 3
   },
   "file_extension": ".py",
   "mimetype": "text/x-python",
   "name": "python",
   "nbconvert_exporter": "python",
   "pygments_lexer": "ipython3",
   "version": "3.6.9"
  }
 },
 "nbformat": 4,
 "nbformat_minor": 2
}

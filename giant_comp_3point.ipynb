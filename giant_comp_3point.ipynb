{
 "cells": [
  {
   "cell_type": "code",
   "execution_count": 1,
   "metadata": {},
   "outputs": [],
   "source": [
    "#coding utf-8\n",
    "\n",
    "#Author: Valentas Kurauskas\n",
    "#Licence: MIT"
   ]
  },
  {
   "cell_type": "code",
   "execution_count": 2,
   "metadata": {},
   "outputs": [],
   "source": [
    "#Calculate largest component size (fraction of infected population) with given R0.\n",
    "#Compares binomial model (green line) with three-point degree distribution model, in which\n",
    "\n",
    "#An individual infects exactly 0, a or b new individuals\n",
    "#with probability 1-p_a-epsilon, p_a, epsilon\n",
    "#adjusted to have desired R0.\n",
    "\n",
    "#Based on Janson, Svante, and Malwina J. Luczak, \"A new approach to the giant component problem.\",\n",
    "#Random Structures & Algorithms 34.2 (2009): 197-216."
   ]
  },
  {
   "cell_type": "code",
   "execution_count": 3,
   "metadata": {},
   "outputs": [],
   "source": [
    "import matplotlib.pyplot as plt\n",
    "import math\n",
    "import ipywidgets\n",
    "from scipy.optimize import fsolve, minimize\n",
    "\n",
    "def xi(f, df, mu):\n",
    "    if df(1) <= 1: return 0\n",
    "    g = lambda x: x * mu - df(x)\n",
    "    xi = fsolve(g, 0)\n",
    "    if (xi < 0 or xi > 1):\n",
    "        return 0\n",
    "    return xi\n",
    "\n",
    "def comp1(f, df, mu):\n",
    "    if df(1) <= 1:\n",
    "        return 0\n",
    "    return 1 - f(xi(f,df,mu))\n",
    "\n",
    "def cc(a,b,R0,p_a):\n",
    "    eps = (p_a * (a-1) * (R0-a) + R0)/((b-1)*(b-R0))\n",
    "    if eps < 0 or 1 - p_a - eps < 0:\n",
    "        return 0\n",
    "    m = (1-p_a - eps) + p_a * a + eps * b\n",
    "    m2 = (1-p_a - eps) + p_a * a**2 + eps * b**2\n",
    "    if (m2 - 2*m) <= 0: return 0\n",
    "    f=lambda x: (1-p_a-eps) + p_a * x**a + eps * x**b\n",
    "    df=lambda x: 1 - p_a - eps + a*p_a*x**(a-1) + eps * b * x**(b-1)\n",
    "    res=comp1(f, df, m)[0]\n",
    "    return res\n",
    "\n",
    "def w(a, R0, p_a, max_b=30):\n",
    "    a=int(a)\n",
    "    plt.bar(range(a+2, max_b+1), [cc(a+1, b+1, R0, p_a) for b in range(a+2,max_b+1)])\n",
    "    gnp = comp1(lambda x: math.exp( R0 * (x-1)), lambda x: R0 * math.exp( R0 * (x-1)), R0)\n",
    "    plt.hlines(gnp, 0, max_b, color=\"green\")\n",
    "    plt.ylim(0, 1.0)\n",
    "    plt.xlim(0, max_b)\n",
    "    print(\"{:0.2%} infect {}, 100 * epsilon % (superspeaders) infect b, others infect 0\".format(p_a,int(a)))\n",
    "    plt.annotate(\"G(n,p) with np=R0\", (2,gnp+0.01), color=\"green\")\n",
    "    plt.title(\"R0={}, a={}, p_a={}\".format(R0,a,p_a))\n",
    "    plt.xlabel(\"b (how many do superspreaders infect)\")\n",
    "    plt.ylabel(\"What fraction will get sick?\")\n",
    "    plt.grid()"
   ]
  },
  {
   "cell_type": "code",
   "execution_count": 4,
   "metadata": {},
   "outputs": [
    {
     "data": {
      "application/vnd.jupyter.widget-view+json": {
       "model_id": "4b189eae4dca4f24b220bb4ab08a5160",
       "version_major": 2,
       "version_minor": 0
      },
      "text/plain": [
       "interactive(children=(FloatSlider(value=1.0, description='a', max=10.0, step=1.0), FloatSlider(value=2.5, desc…"
      ]
     },
     "metadata": {},
     "output_type": "display_data"
    }
   ],
   "source": [
    "ipywidgets.interact(w, a=ipywidgets.FloatSlider(min=0, max=10, step=1, value=1),\n",
    "            R0=ipywidgets.FloatSlider(min=0, max=10, step=0.1, value=2.5),\n",
    "            p_a=ipywidgets.FloatSlider(min=0, max=1, step=0.01, value=0.3),\n",
    "            max_b=ipywidgets.IntSlider(min=10, max=200, step=10, value=50)\n",
    "         );"
   ]
  },
  {
   "cell_type": "code",
   "execution_count": 5,
   "metadata": {},
   "outputs": [],
   "source": [
    "def H(a,b,R0,p_a):\n",
    "    eps = (p_a * (a-1) * (R0-a) + R0)/((b-1)*(b-R0))\n",
    "    if eps < 0 or 1 - p_a - eps < 0:\n",
    "        return 0, lambda x: 0\n",
    "    m = (1-p_a - eps) + p_a * a + eps * b\n",
    "    m2 = (1-p_a - eps) + p_a * a**2 + eps * b**2\n",
    "    if (m2 - 2*m) <= 0: return 0\n",
    "    f = lambda x: (1-p_a-eps) * x + p_a * x**a + eps * x**b\n",
    "    df = lambda x: 1 - p_a - eps + a*p_a*x**(a-1) + eps * b * x**(b-1)\n",
    "    d2 = lambda x: a*(a-1) * p_a * x**a + eps * b * (b-1) * x**b #  from (5.1)\n",
    "    Ed = df(1)\n",
    "    print(\"{:0.2%} infect 0, {:0.2%} infect {}, {:0.2%} infect {}\".format(1-p_a-eps, p_a,int(a-1), eps,b-1))\n",
    "    return xi(f,df,m), lambda x: Ed * x ** 2 - x * df(x), lambda x: d2(x)/(x*df(x)), f"
   ]
  },
  {
   "cell_type": "code",
   "execution_count": 6,
   "metadata": {},
   "outputs": [],
   "source": [
    "def plot_H(a, R0, p_a, b):\n",
    "    xi, f, Rt, g = H(a+1, b+1, R0, p_a)\n",
    "    xs = [ -math.log(xi) * i/100 for i in range(101)]\n",
    "    plt.figure(figsize=(5, 6))\n",
    "    plt.subplot(311)\n",
    "    plt.plot(xs, [f(math.exp(-x)) for x in xs], \"b-\", label=\"active\")\n",
    "    plt.legend()\n",
    "    plt.grid()\n",
    "    plt.subplot(312)\n",
    "    plt.plot(xs, [1-g(math.exp(-x)) for x in xs], \"g-\", label=\"infected/removed\")\n",
    "    plt.legend()\n",
    "    plt.grid()\n",
    "    plt.subplot(313)\n",
    "    plt.plot(xs, [Rt(math.exp(-x)) for x in xs], \"r-\", label=\"Rt\")\n",
    "    plt.hlines(1, 0, -math.log(xi), linestyles=\"dotted\")\n",
    "    plt.xlabel(\"time (distorted)\")\n",
    "    plt.grid()\n",
    "    plt.legend()"
   ]
  },
  {
   "cell_type": "code",
   "execution_count": 7,
   "metadata": {},
   "outputs": [
    {
     "data": {
      "application/vnd.jupyter.widget-view+json": {
       "model_id": "69bbddf3589c4f1bb78ae9bace7df39e",
       "version_major": 2,
       "version_minor": 0
      },
      "text/plain": [
       "interactive(children=(FloatSlider(value=1.0, description='a', max=10.0, step=1.0), FloatSlider(value=2.0, desc…"
      ]
     },
     "metadata": {},
     "output_type": "display_data"
    }
   ],
   "source": [
    "#\"Superspreaders\" cause large Rt in the beginning but are explored sooner.\n",
    "#Note that the time is (monotonically) transformed, it does not match the real time\n",
    "#y axis shows the proportion of the population \n",
    "ipywidgets.interact(plot_H, a=ipywidgets.FloatSlider(min=0, max=10, step=1, value=1),\n",
    "            R0=ipywidgets.FloatSlider(min=0, max=10, step=0.1, value=2.0),\n",
    "            p_a=ipywidgets.FloatSlider(min=0, max=1, step=0.01, value=0.3),\n",
    "            b=ipywidgets.IntSlider(min=2, max=100, step=1, value=10));"
   ]
  }
 ],
 "metadata": {
  "kernelspec": {
   "display_name": "Python 3",
   "language": "python",
   "name": "python3"
  },
  "language_info": {
   "codemirror_mode": {
    "name": "ipython",
    "version": 3
   },
   "file_extension": ".py",
   "mimetype": "text/x-python",
   "name": "python",
   "nbconvert_exporter": "python",
   "pygments_lexer": "ipython3",
   "version": "3.6.9"
  }
 },
 "nbformat": 4,
 "nbformat_minor": 2
}
